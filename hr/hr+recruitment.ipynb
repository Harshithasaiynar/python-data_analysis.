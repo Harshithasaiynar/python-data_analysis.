{
 "cells": [
  {
   "cell_type": "markdown",
   "metadata": {},
   "source": [
    "                                HR Recruitment\n",
    "This table displays the percentage of positions that completed the recruitment process and were filled within desired timelines. Target is 54 calendar days for classified (non-public safety) positions, and 60 calendar days for appointive positions."
   ]
  },
  {
   "cell_type": "code",
   "execution_count": 8,
   "metadata": {},
   "outputs": [
    {
     "name": "stdout",
     "output_type": "stream",
     "text": [
      "Populating the interactive namespace from numpy and matplotlib\n",
      "   Fiscal Year       Department Position Type  # On Time Recruitments  \\\n",
      "0         2016  All Departments      Combined                      96   \n",
      "1         2017  All Departments      Combined                      93   \n",
      "2         2018  All Departments      Combined                      17   \n",
      "3         2016  All Departments    Appointive                      13   \n",
      "4         2016  All Departments    Classified                      83   \n",
      "5         2017  All Departments    Appointive                      23   \n",
      "6         2017  All Departments    Classified                      70   \n",
      "7         2018  All Departments    Appointive                       9   \n",
      "8         2018  All Departments    Classified                       8   \n",
      "\n",
      "   # Total Recruitments % On Time Recruitments  \n",
      "0                   116                    83%  \n",
      "1                   128                    73%  \n",
      "2                    21                    81%  \n",
      "3                    21                    62%  \n",
      "4                    95                    87%  \n",
      "5                    45                    51%  \n",
      "6                    83                    84%  \n",
      "7                    12                    75%  \n",
      "8                     9                    89%  \n"
     ]
    }
   ],
   "source": [
    "%matplotlib inline\n",
    "%pylab inline\n",
    "import numpy as np\n",
    "import seaborn as sns\n",
    "import matplotlib.pyplot as plt\n",
    "import pandas as pd\n",
    "import statsmodels.api as sm\n",
    "import warnings\n",
    "warnings.filterwarnings('ignore')\n",
    "hr = pd.read_csv('D:/dataSets/hr2/hr-recruitment-1.csv')"
   ]
  },
  {
   "cell_type": "markdown",
   "metadata": {},
   "source": [
    "To check whether the environment has loaded correctly we use np.arange."
   ]
  },
  {
   "cell_type": "code",
   "execution_count": 14,
   "metadata": {},
   "outputs": [
    {
     "data": {
      "image/png": "[encoded data removed]",
      "text/plain": [
       "<matplotlib.figure.Figure at 0x1c8c17da278>"
      ]
     },
     "metadata": {},
     "output_type": "display_data"
    }
   ],
   "source": [
    "xvals = np.arange(8) \n",
    "plt.plot(xvals) \n",
    "plt.show()"
   ]
  },
  {
   "cell_type": "code",
   "execution_count": 3,
   "metadata": {},
   "outputs": [
    {
     "data": {
      "text/plain": [
       "Index(['Fiscal Year', 'Department', 'Position Type', '# On Time Recruitments',\n",
       "       '# Total Recruitments', '% On Time Recruitments'],\n",
       "      dtype='object')"
      ]
     },
     "execution_count": 3,
     "metadata": {},
     "output_type": "execute_result"
    }
   ],
   "source": [
    "hr.columns"
   ]
  },
  {
   "cell_type": "code",
   "execution_count": 4,
   "metadata": {},
   "outputs": [
    {
     "data": {
      "text/plain": [
       "<bound method NDFrame.head of    Fiscal Year       Department Position Type  # On Time Recruitments  \\\n",
       "0         2016  All Departments      Combined                      96   \n",
       "1         2017  All Departments      Combined                      93   \n",
       "2         2018  All Departments      Combined                      17   \n",
       "3         2016  All Departments    Appointive                      13   \n",
       "4         2016  All Departments    Classified                      83   \n",
       "5         2017  All Departments    Appointive                      23   \n",
       "6         2017  All Departments    Classified                      70   \n",
       "7         2018  All Departments    Appointive                       9   \n",
       "8         2018  All Departments    Classified                       8   \n",
       "\n",
       "   # Total Recruitments % On Time Recruitments  \n",
       "0                   116                    83%  \n",
       "1                   128                    73%  \n",
       "2                    21                    81%  \n",
       "3                    21                    62%  \n",
       "4                    95                    87%  \n",
       "5                    45                    51%  \n",
       "6                    83                    84%  \n",
       "7                    12                    75%  \n",
       "8                     9                    89%  >"
      ]
     },
     "execution_count": 4,
     "metadata": {},
     "output_type": "execute_result"
    }
   ],
   "source": [
    "hr.head"
   ]
  },
  {
   "cell_type": "code",
   "execution_count": 6,
   "metadata": {},
   "outputs": [
    {
     "data": {
      "text/plain": [
       "(9, 6)"
      ]
     },
     "execution_count": 6,
     "metadata": {},
     "output_type": "execute_result"
    }
   ],
   "source": [
    "hr.shape"
   ]
  },
  {
   "cell_type": "markdown",
   "metadata": {},
   "source": [
    "Distribution analysis"
   ]
  },
  {
   "cell_type": "code",
   "execution_count": 16,
   "metadata": {},
   "outputs": [
    {
     "data": {
      "text/plain": [
       "<matplotlib.axes._subplots.AxesSubplot at 0x1c8c1a0fac8>"
      ]
     },
     "execution_count": 16,
     "metadata": {},
     "output_type": "execute_result"
    },
    {
     "data": {
      "image/png": "[encoded data removed]",
      "text/plain": [
       "<matplotlib.figure.Figure at 0x1c8c172e828>"
      ]
     },
     "metadata": {},
     "output_type": "display_data"
    }
   ],
   "source": [
    "hr['# Total Recruitments'].hist(bins=50)"
   ]
  },
  {
   "cell_type": "code",
   "execution_count": 17,
   "metadata": {},
   "outputs": [
    {
     "data": {
      "text/plain": [
       "<matplotlib.axes._subplots.AxesSubplot at 0x1c8c17da668>"
      ]
     },
     "execution_count": 17,
     "metadata": {},
     "output_type": "execute_result"
    },
    {
     "data": {
      "image/png": "[encoded data removed]",
      "text/plain": [
       "<matplotlib.figure.Figure at 0x1c8c1aac4e0>"
      ]
     },
     "metadata": {},
     "output_type": "display_data"
    }
   ],
   "source": [
    "hr.boxplot(column='# Total Recruitments')"
   ]
  },
  {
   "cell_type": "code",
   "execution_count": 25,
   "metadata": {},
   "outputs": [
    {
     "name": "stdout",
     "output_type": "stream",
     "text": [
      "Frequency Table of on time recruitments:\n",
      "96    1\n",
      "17    1\n",
      "83    1\n",
      "13    1\n",
      "23    1\n",
      "8     1\n",
      "9     1\n",
      "93    1\n",
      "70    1\n",
      "Name: # On Time Recruitments, dtype: int64\n",
      "\n",
      "Probility of getting on time recruitments class:\n",
      "Empty DataFrame\n",
      "Columns: []\n",
      "Index: [8, 9, 13, 17, 23, 70, 83, 93, 96]\n"
     ]
    }
   ],
   "source": [
    "temp1 = hr['# On Time Recruitments'].value_counts(ascending=True)\n",
    "temp2 = hr.pivot_table(values='# Total Recruitments',index=['# On Time Recruitments'],aggfunc=lambda x: x.map({'Y':1,'N':0}).mean())\n",
    "print ('Frequency Table of on time recruitments:') \n",
    "print (temp1)\n",
    "\n",
    "print ('\\nProbility of getting on time recruitments class:') \n",
    "print (temp2)"
   ]
  },
  {
   "cell_type": "code",
   "execution_count": 27,
   "metadata": {},
   "outputs": [
    {
     "data": {
      "text/plain": [
       "<matplotlib.axes._subplots.AxesSubplot at 0x1c8c1f3a7b8>"
      ]
     },
     "execution_count": 27,
     "metadata": {},
     "output_type": "execute_result"
    },
    {
     "data": {
      "image/png": "[encoded data removed]",
      "text/plain": [
       "<matplotlib.figure.Figure at 0x1c8c1f3a7f0>"
      ]
     },
     "metadata": {},
     "output_type": "display_data"
    }
   ],
   "source": [
    "fig = plt.figure(figsize=(8,4))\n",
    "ax1 = fig.add_subplot(121)\n",
    "ax1.set_xlabel('# On Time Recruitments')\n",
    "temp1.plot(kind='bar')"
   ]
  },
  {
   "cell_type": "code",
   "execution_count": null,
   "metadata": {
    "collapsed": true
   },
   "outputs": [],
   "source": []
  }
 ],
 "metadata": {
  "kernelspec": {
   "display_name": "Python 3",
   "language": "python",
   "name": "python3"
  },
  "language_info": {
   "codemirror_mode": {
    "name": "ipython",
    "version": 3
   },
   "file_extension": ".py",
   "mimetype": "text/x-python",
   "name": "python",
   "nbconvert_exporter": "python",
   "pygments_lexer": "ipython3",
   "version": "3.6.1"
  }
 },
 "nbformat": 4,
 "nbformat_minor": 2
}
